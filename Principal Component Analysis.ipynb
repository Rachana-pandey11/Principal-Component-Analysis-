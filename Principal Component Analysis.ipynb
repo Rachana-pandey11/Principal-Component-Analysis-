{
  "nbformat": 4,
  "nbformat_minor": 0,
  "metadata": {
    "colab": {
      "name": "ML Lab - 6.ipynb",
      "provenance": []
    },
    "kernelspec": {
      "name": "python3",
      "display_name": "Python 3"
    },
    "language_info": {
      "name": "python"
    }
  },
  "cells": [
    {
      "cell_type": "markdown",
      "metadata": {
        "id": "2bpGGFUa8tda"
      },
      "source": [
        "Aim: Implement **Principal Component Analysis** technique of dimensionality reduction and evaluate the performance with a classifier"
      ]
    },
    {
      "cell_type": "code",
      "metadata": {
        "colab": {
          "resources": {
            "http://localhost:8080/nbextensions/google.colab/files.js": {
              "data": "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",
              "ok": true,
              "headers": [
                [
                  "content-type",
                  "application/javascript"
                ]
              ],
              "status": 200,
              "status_text": ""
            }
          },
          "base_uri": "https://localhost:8080/",
          "height": 73
        },
        "id": "RiboBgANp3wU",
        "outputId": "23443bca-141a-4c26-f13c-f75deadaefa4"
      },
      "source": [
        "import pandas as pd\n",
        "import numpy as np\n",
        "from google.colab import files\n",
        "uploaded = files.upload()\n"
      ],
      "execution_count": null,
      "outputs": [
        {
          "output_type": "display_data",
          "data": {
            "text/html": [
              "\n",
              "     <input type=\"file\" id=\"files-b42fecf0-6992-4507-9453-241775856e52\" name=\"files[]\" multiple disabled\n",
              "        style=\"border:none\" />\n",
              "     <output id=\"result-b42fecf0-6992-4507-9453-241775856e52\">\n",
              "      Upload widget is only available when the cell has been executed in the\n",
              "      current browser session. Please rerun this cell to enable.\n",
              "      </output>\n",
              "      <script src=\"/nbextensions/google.colab/files.js\"></script> "
            ],
            "text/plain": [
              "<IPython.core.display.HTML object>"
            ]
          },
          "metadata": {}
        },
        {
          "output_type": "stream",
          "name": "stdout",
          "text": [
            "Saving data.csv to data.csv\n"
          ]
        }
      ]
    },
    {
      "cell_type": "code",
      "metadata": {
        "colab": {
          "base_uri": "https://localhost:8080/",
          "height": 1000
        },
        "id": "uv_rkRoan11r",
        "outputId": "2d6dd18b-602a-4a30-d98a-a842dbd21f4e"
      },
      "source": [
        "data = pd.read_csv('data.csv')\n",
        "data = data.sample(frac=1)\n",
        "dataset = np.array(data)\n",
        "X = dataset[:,2:32]\n",
        "Y = dataset[:,1]\n",
        "from sklearn import preprocessing\n",
        "le = preprocessing.LabelEncoder()\n",
        "Y = le.fit_transform(Y)\n",
        "from sklearn.model_selection import train_test_split\n",
        "X_train, X_test, Y_train, Y_test = train_test_split(X, Y, test_size = \n",
        "0.20)\n",
        "from sklearn.preprocessing import StandardScaler\n",
        "scaler = StandardScaler()\n",
        "X_train = scaler.fit_transform(X_train) \n",
        "X_test = scaler.transform(X_test)\n",
        "from sklearn.naive_bayes import GaussianNB\n",
        "model = GaussianNB()\n",
        "model.fit(X_train,Y_train)\n",
        "y_predict = model.predict(X_test)\n",
        " \n",
        "from sklearn.metrics import accuracy_score\n",
        "accuracy = accuracy_score(Y_test, y_predict)\n",
        "print(\"\\n---- Without Dimensionality Reduction ----\")\n",
        "print(\"Accuracy on test set : \", accuracy)\n",
        "import matplotlib.pyplot as plt\n",
        "from sklearn.metrics import roc_curve\n",
        "from sklearn.metrics import roc_auc_score\n",
        "\n",
        "def plot_roc_curve(fpr1, tpr1, fpr2, tpr2):\n",
        " plt.plot(fpr1, tpr1, color='red', label = \"AUC without PCA = %0.2f\" \n",
        "% auc)\n",
        " plt.plot(fpr2, tpr2, color='green', label = \"AUC with PCA = %0.2f\" \n",
        "% auc_pca)\n",
        " plt.plot([0, 1], [0, 1], color='darkblue', linestyle='--')\n",
        " plt.xlabel('False Positive Rate', fontsize=12)\n",
        " plt.ylabel('True Positive Rate', fontsize=12)\n",
        " plt.title('Receiver Operating Characteristic (ROC) Curve', \n",
        "fontsize=12)\n",
        " plt.legend()\n",
        " plt.show()\n",
        "probs = model.predict_proba(X_test)\n",
        "probs = probs[:, 1]\n",
        "auc = roc_auc_score(Y_test, probs)\n",
        "fpr1, tpr1, thresholds1 = roc_curve(Y_test, probs)\n",
        "#Dimensionality reduction - Principal Component Analysis Algorithm\n",
        "sc = StandardScaler()\n",
        "X_scaled = sc.fit_transform(X)\n",
        "from sklearn.decomposition import PCA\n",
        "pca = PCA(n_components = 6)\n",
        "pca.fit(X_scaled)\n",
        "\n",
        "transformed_df = pd.DataFrame(pca.transform(X_scaled), \n",
        " columns=['PC1', 'PC2', 'PC3', \n",
        " 'PC4', 'PC5', 'PC6'])\n",
        "transformed_df = np.array(transformed_df)\n",
        "pca_X_train, pca_X_test, pca_Y_train, pca_Y_test = train_test_split(transformed_df, Y, test_size = 0.20)\n",
        "model = GaussianNB()\n",
        "model.fit(pca_X_train, pca_Y_train)\n",
        "pca_y_predict = model.predict(pca_X_test)\n",
        "pca_accuracy = accuracy_score(pca_Y_test, pca_y_predict)\n",
        "print(\"\\n---- With Dimensionality Reduction (PCA) ----\")\n",
        "print(\"Accuracy on test set : \", pca_accuracy)\n",
        "print(\"\\nEigen Values : \")\n",
        "print(pca.explained_variance_)\n",
        "print()\n",
        "print(\"Variances (Percentage) : \")\n",
        "print(pca.explained_variance_ratio_ * 100)\n",
        "print()\n",
        "print(\"Eigen Vectors : \")\n",
        "print(pca.components_)\n",
        "probs_pca = model.predict_proba(pca_X_test)\n",
        "probs_pca = probs_pca[:, 1]\n",
        "\n",
        "auc_pca = roc_auc_score(pca_Y_test, probs_pca)\n",
        "fpr2, tpr2, thresholds2 = roc_curve(pca_Y_test, probs_pca)\n",
        "plot_roc_curve(fpr1, tpr1, fpr2, tpr2)"
      ],
      "execution_count": null,
      "outputs": [
        {
          "output_type": "stream",
          "name": "stdout",
          "text": [
            "\n",
            "---- Without Dimensionality Reduction ----\n",
            "Accuracy on test set :  0.956140350877193\n",
            "\n",
            "---- With Dimensionality Reduction (PCA) ----\n",
            "Accuracy on test set :  0.9298245614035088\n",
            "\n",
            "Eigen Values : \n",
            "[13.30499079  5.7013746   2.82291016  1.98412752  1.65163324  1.20948224]\n",
            "\n",
            "Variances (Percentage) : \n",
            "[44.27202561 18.97118204  9.39316326  6.60213492  5.49576849  4.02452204]\n",
            "\n",
            "Eigen Vectors : \n",
            "[[ 2.18902444e-01  1.03724578e-01  2.27537293e-01  2.20994985e-01\n",
            "   1.42589694e-01  2.39285354e-01  2.58400481e-01  2.60853758e-01\n",
            "   1.38166959e-01  6.43633464e-02  2.05978776e-01  1.74280281e-02\n",
            "   2.11325916e-01  2.02869635e-01  1.45314521e-02  1.70393451e-01\n",
            "   1.53589790e-01  1.83417397e-01  4.24984216e-02  1.02568322e-01\n",
            "   2.27996634e-01  1.04469325e-01  2.36639681e-01  2.24870533e-01\n",
            "   1.27952561e-01  2.10095880e-01  2.28767533e-01  2.50885971e-01\n",
            "   1.22904556e-01  1.31783943e-01]\n",
            " [-2.33857132e-01 -5.97060883e-02 -2.15181361e-01 -2.31076711e-01\n",
            "   1.86113023e-01  1.51891610e-01  6.01653628e-02 -3.47675005e-02\n",
            "   1.90348770e-01  3.66575471e-01 -1.05552152e-01  8.99796818e-02\n",
            "  -8.94572342e-02 -1.52292628e-01  2.04430453e-01  2.32715896e-01\n",
            "   1.97207283e-01  1.30321560e-01  1.83848000e-01  2.80092027e-01\n",
            "  -2.19866379e-01 -4.54672983e-02 -1.99878428e-01 -2.19351858e-01\n",
            "   1.72304352e-01  1.43593173e-01  9.79641144e-02 -8.25723508e-03\n",
            "   1.41883349e-01  2.75339469e-01]\n",
            " [-8.53124476e-03  6.45499026e-02 -9.31422155e-03  2.86995246e-02\n",
            "  -1.04291904e-01 -7.40915707e-02  2.73383889e-03 -2.55635387e-02\n",
            "  -4.02399371e-02 -2.25740890e-02  2.68481388e-01  3.74633665e-01\n",
            "   2.66645366e-01  2.16006529e-01  3.08838980e-01  1.54779720e-01\n",
            "   1.76463742e-01  2.24657566e-01  2.88584292e-01  2.11503765e-01\n",
            "  -4.75069894e-02 -4.22978218e-02 -4.85465079e-02 -1.19023162e-02\n",
            "  -2.59797614e-01 -2.36075626e-01 -1.73057336e-01 -1.70344074e-01\n",
            "  -2.71312641e-01 -2.32791315e-01]\n",
            " [ 4.14089748e-02 -6.03049992e-01  4.19831099e-02  5.34338050e-02\n",
            "   1.59382776e-01  3.17945719e-02  1.91227448e-02  6.53359317e-02\n",
            "   6.71249894e-02  4.85867570e-02  9.79412402e-02 -3.59855526e-01\n",
            "   8.89924162e-02  1.08205040e-01  4.46641836e-02 -2.74693772e-02\n",
            "   1.31688235e-03  7.40673444e-02  4.40733553e-02  1.53047439e-02\n",
            "   1.54172357e-02 -6.32807894e-01  1.38027899e-02  2.58947391e-02\n",
            "   1.76522079e-02 -9.13284078e-02 -7.39511702e-02  6.00698846e-03\n",
            "  -3.62507014e-02 -7.70534456e-02]\n",
            " [ 3.77863498e-02 -4.94688630e-02  3.73746634e-02  1.03312464e-02\n",
            "  -3.65088574e-01  1.17040016e-02  8.63754241e-02 -4.38610194e-02\n",
            "  -3.05941428e-01 -4.44243455e-02 -1.54456497e-01 -1.91650508e-01\n",
            "  -1.20990207e-01 -1.27574442e-01 -2.32065698e-01  2.79968171e-01\n",
            "   3.53982093e-01  1.95548075e-01 -2.52868762e-01  2.63297449e-01\n",
            "  -4.40659330e-03 -9.28833878e-02  7.45415602e-03 -2.73909088e-02\n",
            "  -3.24435389e-01  1.21804092e-01  1.88518706e-01  4.33320704e-02\n",
            "  -2.44558668e-01  9.44233098e-02]\n",
            " [ 1.87408883e-02 -3.21787476e-02  1.73085202e-02 -1.88767294e-03\n",
            "  -2.86374298e-01 -1.41310883e-02 -9.34427262e-03 -5.20500531e-02\n",
            "   3.56458493e-01 -1.19430765e-01 -2.56032596e-02 -2.87472955e-02\n",
            "   1.81069438e-03 -4.28638781e-02 -3.42917306e-01  6.91973749e-02\n",
            "   5.63432523e-02 -3.12243490e-02  4.90245662e-01 -5.31953336e-02\n",
            "  -2.90706327e-04 -5.00081580e-02  8.50094537e-03 -2.51644406e-02\n",
            "  -3.69255581e-01  4.77058848e-02  2.83793744e-02 -3.08735082e-02\n",
            "   4.98926756e-01 -8.02232429e-02]]\n"
          ]
        },
        {
          "output_type": "display_data",
          "data": {
            "image/png": "[encoded data removed]",
            "text/plain": [
              "<Figure size 432x288 with 1 Axes>"
            ]
          },
          "metadata": {
            "needs_background": "light"
          }
        }
      ]
    }
  ]
}